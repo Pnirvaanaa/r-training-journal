


v <- c(10, 20, 30, 40)
v

1:5              # خروجی: 1 2 3 4 5
seq(0, 1, by=0.2)  # خروجی: 0.0 0.2 0.4 0.6 0.8 1.0

rep(1:3, times=2)     # 1 2 3 1 2 3
rep(1:3, each=2)      # 1 1 2 2 3 3

length(v)     # 4
sort(v)       # 10 20 30 40
rev(v)        # 40 30 20 10

x <- c(5, 10, 15, 20)
which(x > 12)     # 3 4
x[which(x > 12)] # 15 20

any(x > 18)     # TRUE
all(x > 4)      # TRUE
all(x > 10)     # FALSE






m <- matrix(1:12, nrow = 3, ncol = 4)
m
v <- 1:9
dim(v) <- c(3, 3)
v
t(m)  # سطرها و ستون‌های ماتریس m را جا‌به‌جا می‌کند

mat <- matrix(c(5, 10, 15, 20), nrow = 2, ncol = 2)
rownames(mat) <- c("Row1", "Row2")
colnames(mat) <- c("Col1", "Col2")
mat






A <- matrix(c(1, 2, 3, 4), nrow = 2)
B <- matrix(c(5, 6, 7, 8), nrow = 2)
A + B
A * B
A %*% B  # باید ابعاد هماهنگ باشن (مثلاً 2x2 × 2x2)
solve(A)  # فقط برای ماتریس‌های مربعی و معکوس‌پذیر
det(A)
diag(A)              # استخراج قطر
diag(c(1, 2, 3))      # ساخت ماتریس قطری 3x3














# تعریف دو بردار
x1 <- c(23, 45, 67, 89, 21)
x2 <- c(4, 5, 6, 7, 8)

# ساخت لیست با نام‌های دلخواه
mylist <- list(randomshit = x1, randshit2 = x2, difference = "alaki")
mylist
# تغییر نام عناصر لیست (فقط دو نام داده شده، عنصر سوم بدون نام می‌مونه)
names(mylist) <- c("yek", "dwo")
mylist






# فراخوانی مجموعه داده‌ پیش‌فرض 'trees'
data(trees)

# مشاهده چند ردیف اول داده‌ها
head(trees)

# ورود دستی داده‌ها (فقط در محیط‌هایی مثل R GUI فعال است)
data.entry(trees)






# مثال ساده: عامل منطقی دودکش کشیدن (بله / خیر)
smoke <- c("yes", "no", "yes", "no")
factor(smoke)
# خروجی: عامل با دو سطح: "no" و "yes"

# مثال: کدگذاری جنسیت با عدد و برچسب
gender <- factor(
  c(1,2,3,2,1,2,3,2,1,2),
  levels = c(1,2,3),
  labels = c("male", "female", "non-bin")
)
gender
# خروجی: عامل با سه سطح: male, female, non-bin









# فایل را از مسیر مشخص خوانده و به data frame تبدیل می‌کند:
sample_data <- read.table("/home/pourya/table.txt", header = TRUE, sep = ",")

# نمایش محتوای data frame
sample_data






# توان
2^4       # خروجی: 16
2**3      # خروجی: 8

# باقی‌مانده تقسیم
22 %% 3   # خروجی: 1

# خارج قسمت تقسیم
22 %/% 3  # خروجی: 7






# نقیض
!TRUE        # خروجی: FALSE
!FALSE       # خروجی: TRUE

# مساوی و نامساوی
5 == 5       # خروجی: TRUE
5 != 3       # خروجی: TRUE
5 == 3       # خروجی: FALSE

# و منطقی
(TRUE & TRUE)   # خروجی: TRUE
(TRUE & FALSE)  # خروجی: FALSE

# یا منطقی
(TRUE | FALSE)  # خروجی: TRUE
(FALSE | FALSE) # خروجی: FALSE






abs(-5)
sum(c(1, 2, 3))
prod(c(2, 3, 4))
sign(c(-10, 0, 5))
cumsum(c(1, 2, 3))
cumprod(c(2, 3, 4))
exp(1)
floor(3.7)
gamma(6)
log(10)
log10(1000)
round(3.6)
sqrt(16)






data <- data.frame(
  ID = 1:10,
  Height = c(172, 165, 180, 158, 170, 175, 160, 168, 182, 163),
  Weight = c(68, 72, 80, 55, 60, 78, 58, 66, 85, 62),
  Age = c(25, 30, 22, 27, 35, 29, 26, 24, 28, 31),
  Score = c(88, 75, 90, 65, 70, 85, 74, 82, 91, 69)

# محاسبه میانگین (Mean) قد
mean(data$Height)
# خروجی: میانگین قد افراد

# محاسبه میانه (Median) وزن
median(data$Weight)
# خروجی: مقدار وسط وزن‌ها

# میانگین بریده شده (Trimmed Mean) وزن – حذف 20٪ داده‌های بالا و پایین
mean(data$Weight, trim = 0.2)
# خروجی: میانگین وزن با حذف اثر داده‌های پرت

# میانگین وزنی قدها براساس سن افراد
weighted.mean(data$Height, w = data$Age)
# خروجی: میانگین قد با درنظر گرفتن سن به عنوان وزن

# انحراف معیار (Standard Deviation) قد
sd(data$Height)
# خروجی: میزان پراکندگی قدها حول میانگین

# واریانس (Variance) شناسه‌ها
var(data$ID)
# خروجی: پراکندگی شناسه‌ها

# چارک‌ها (Quartiles) سن
quantile(data$Age)
# خروجی: Q1, Q2 (میانه), Q3 و غیره

# فاصله بین چارکی (Interquartile Range)
IQR(data$Age)
# خروجی: Q3 - Q1

# بازه (Range) نمرات
range(data$Score)
# خروجی: حداقل و حداکثر نمره

# اختلاف بین حداکثر و حداقل سن
diff(range(data$Age))
# خروجی: دامنه تغییرات سنی

# MAD (میانه قدر مطلق انحراف از میانه) قد – نسخه اصلاح‌شده (مقیاس‌دار)
mad(data$Height)
# خروجی: تخمینی مقاوم از پراکندگی (مقیاس‌دار برای نرمال)

# MAD بدون ضریب اصلاح
mad(data$Height, constant = 1)
# خروجی: مقدار خام و دقیق انحراف مطلق از میانه

